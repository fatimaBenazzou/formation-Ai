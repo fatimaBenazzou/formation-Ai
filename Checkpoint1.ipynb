{
 "cells": [
  {
   "cell_type": "markdown",
   "metadata": {},
   "source": [
    "# Algeria Ai\n",
    "## Checkpoint 1"
   ]
  },
  {
   "cell_type": "markdown",
   "metadata": {},
   "source": [
    "### Question 1 :\n",
    "\n",
    "Write a program that will find all numbers which are divisible by 7 but are not a multiple of 5, between 2000 and 3200 (both included). The numbers obtained should be printed in a list"
   ]
  },
  {
   "cell_type": "code",
   "execution_count": 34,
   "metadata": {},
   "outputs": [
    {
     "name": "stdout",
     "output_type": "stream",
     "text": [
      "[2002, 2009, 2016, 2023, 2037, 2044, 2051, 2058, 2072, 2079, 2086, 2093, 2107, 2114, 2121, 2128, 2142, 2149, 2156, 2163, 2177, 2184, 2191, 2198, 2212, 2219, 2226, 2233, 2247, 2254, 2261, 2268, 2282, 2289, 2296, 2303, 2317, 2324, 2331, 2338, 2352, 2359, 2366, 2373, 2387, 2394, 2401, 2408, 2422, 2429, 2436, 2443, 2457, 2464, 2471, 2478, 2492, 2499, 2506, 2513, 2527, 2534, 2541, 2548, 2562, 2569, 2576, 2583, 2597, 2604, 2611, 2618, 2632, 2639, 2646, 2653, 2667, 2674, 2681, 2688, 2702, 2709, 2716, 2723, 2737, 2744, 2751, 2758, 2772, 2779, 2786, 2793, 2807, 2814, 2821, 2828, 2842, 2849, 2856, 2863, 2877, 2884, 2891, 2898, 2912, 2919, 2926, 2933, 2947, 2954, 2961, 2968, 2982, 2989, 2996, 3003, 3017, 3024, 3031, 3038, 3052, 3059, 3066, 3073, 3087, 3094, 3101, 3108, 3122, 3129, 3136, 3143, 3157, 3164, 3171, 3178, 3192, 3199]\n"
     ]
    }
   ],
   "source": [
    "list = []\n",
    "\n",
    "for nombre in range(2000, 3200):    \n",
    "    if nombre % 7 ==0 and nombre % 5 !=0 :\n",
    "        list.append(nombre)\n",
    "        # si un nombre est div/7 alors le prochain est plus loin de 7\n",
    "        # ajouter 6 + le 1 de la boucle = 7\n",
    "        nombre += 6\n",
    "    \n",
    "print(list)\n"
   ]
  },
  {
   "cell_type": "markdown",
   "metadata": {},
   "source": [
    "### Question 2\n",
    "\n",
    "Write a program that can compute the factorial of a given number. (the factorial of n is the product of all \n",
    "positive integers less than or equal to n). for example factorial(5)= 5 x 4 x 3 x 2 x 1 the result is 120. (i.e. \n",
    "factorial (0)=1)\n"
   ]
  },
  {
   "cell_type": "code",
   "execution_count": 52,
   "metadata": {},
   "outputs": [
    {
     "name": "stdout",
     "output_type": "stream",
     "text": [
      "The entred value is not a number\n"
     ]
    }
   ],
   "source": [
    "# fonction qui retourne le factoriel d'un nombre\n",
    "def factoriel(num):\n",
    "    fact = 1\n",
    "    if num < 0:\n",
    "        print(\"the entred number is negative !\")\n",
    "\n",
    "    else:\n",
    "        for n in range(1, num):\n",
    "            fact *= (n+1)\n",
    "\n",
    "        return fact\n",
    "\n",
    "# lire une valeur d'un utilisateur\n",
    "num = int(input(\"Enter a number: \"))\n",
    "factoriel(num)\n"
   ]
  },
  {
   "cell_type": "markdown",
   "metadata": {},
   "source": [
    "### Question 3\n",
    "\n",
    "With a given integer number n, write a program to generate a dictionary that contains (i, i*i) such that is an integral number between 1 and n (both included). and then the program should print the dictionary. \n",
    "Suppose the following input is supplied to the program: 8 Then, the output should be: {1: 1, 2: 4, 3: 9, 4: 16, 5: 25, 6: 36, 7: 49, 8: 64}"
   ]
  },
  {
   "cell_type": "code",
   "execution_count": 98,
   "metadata": {},
   "outputs": [
    {
     "data": {
      "text/plain": [
       "{1: 1, 2: 4, 3: 9, 4: 16, 5: 25, 6: 36, 7: 49, 8: 64}"
      ]
     },
     "execution_count": 98,
     "metadata": {},
     "output_type": "execute_result"
    }
   ],
   "source": [
    "def generateDict(n) :\n",
    "    Dict = {}\n",
    "\n",
    "    for i in range(1, n+1):\n",
    "        Dict[i] = i**2\n",
    "    \n",
    "    return Dict\n",
    "\n",
    "n = 8\n",
    "generateDict(int(n))"
   ]
  },
  {
   "cell_type": "markdown",
   "metadata": {},
   "source": [
    "### Question 4\n",
    "\n",
    "Given a non-empty string and an int n, return a new string where the char at index n has been removed. The value of n will be a valid index of a char in the original string (i.e. n will be in the range 0..len(str)-1 inclusive).\n",
    "\n",
    "missing_char('kitten', 1) → 'ktten' for example here we remove \"i\" which is located in the index 1.\n",
    "\n",
    "missing_char('kitten', 0) → 'itten' here we remove \"k\" which is in the index 0.\n",
    "\n",
    "missing_char('kitten', 4) → 'kittn' here we remove \"e\" which is in the index 4."
   ]
  },
  {
   "cell_type": "code",
   "execution_count": 97,
   "metadata": {},
   "outputs": [
    {
     "name": "stdout",
     "output_type": "stream",
     "text": [
      "itten\n",
      "ktten\n",
      "kitte\n"
     ]
    }
   ],
   "source": [
    "# Function \"delete\" the char at the given index\n",
    "def missing_char(string, index):\n",
    "    if index >= 0 and index < len(string):\n",
    "        return string[:index] + string[index+1:]\n",
    "    else:\n",
    "        print(\"Index invalid\")\n",
    "\n",
    "\n",
    "print(missing_char(\"kitten\", 0))\n",
    "print(missing_char(\"kitten\", 1))\n",
    "print(missing_char(\"kitten\", 5))"
   ]
  },
  {
   "cell_type": "markdown",
   "metadata": {},
   "source": [
    "### Question 5\n",
    "\n",
    "Write a NumPy program to convert a NumPy array into a Python list structure.\n",
    "Expected Output:\n",
    "Original array elements: [[0 1] [2 3] [4 5]]\n",
    "Array to list: [[0, 1], [2, 3], [4, 5]]\n"
   ]
  },
  {
   "cell_type": "code",
   "execution_count": 72,
   "metadata": {},
   "outputs": [],
   "source": [
    "import numpy as np"
   ]
  },
  {
   "cell_type": "code",
   "execution_count": 90,
   "metadata": {},
   "outputs": [
    {
     "name": "stdout",
     "output_type": "stream",
     "text": [
      "original numpy array: \n",
      " [[0 1]\n",
      " [2 3]\n",
      " [4 5]]\n",
      "new python list:  [[0, 1], [2, 3], [4, 5]]\n"
     ]
    }
   ],
   "source": [
    "# Define a numpy array\n",
    "originTab =  np.arange(6).reshape(3, 2)\n",
    "\n",
    "# Convert it to a Python list structure\n",
    "newTab = originTab.tolist()\n",
    "\n",
    "print(\"original numpy array: \\n\", originTab)\n",
    "print(\"new python list: \", newTab)"
   ]
  },
  {
   "cell_type": "markdown",
   "metadata": {},
   "source": [
    "### Question 6\n",
    "\n",
    "Write a NumPy program to compute the covariance matrix of two given arrays.\n",
    "Original array1: [0 1 2]\n",
    "Original array2: [2 1 0]\n",
    "Covariance matrix of the said arrays: [[ 1. -1.] [-1. 1.]]\n"
   ]
  },
  {
   "cell_type": "code",
   "execution_count": 92,
   "metadata": {},
   "outputs": [
    {
     "name": "stdout",
     "output_type": "stream",
     "text": [
      "The Covarience matrix: \n",
      " [[ 1. -1.]\n",
      " [-1.  1.]]\n"
     ]
    }
   ],
   "source": [
    "# Define the arrays\n",
    "array1= np.array([0, 1, 2])\n",
    "array2= np.array([2, 1, 0])\n",
    "\n",
    "# calculate the Covarience matrix & print it\n",
    "MatriceCovarience= np.cov(array1,array2)\n",
    "print(\"The Covarience matrix: \\n\", MatriceCovarience)"
   ]
  },
  {
   "cell_type": "markdown",
   "metadata": {},
   "source": [
    "### Question 7\n",
    "\n",
    "Write a program that calculates and prints the value according to the given formula: Q = Square root of [(2 * C * D)/H]\n",
    "The following are the fixed values of C and H: C is 50. H is 30.\n",
    "D is the variable whose values should be input into your program in a comma-separated sequence. (that means D contains more than value)\n",
    "\n",
    "Example Let's assume the following comma-separated input sequence is given to the program: 100,150,180 \n",
    "The output of the program should be: 18,22,24\n",
    "\n",
    "To further explain this, we will obtain a result for each value of D: Q1= Square root of [(2 * C * 100)/H] = 18, \n",
    "Q2= Square root of [(2 * C * 150)/H] = 22 \n",
    "and Q3 = Square root of [(2 * C * 180)/H] = 24"
   ]
  },
  {
   "cell_type": "code",
   "execution_count": 93,
   "metadata": {},
   "outputs": [],
   "source": [
    "import math"
   ]
  },
  {
   "cell_type": "code",
   "execution_count": 95,
   "metadata": {},
   "outputs": [
    {
     "name": "stdout",
     "output_type": "stream",
     "text": [
      "18, 22, 24, "
     ]
    }
   ],
   "source": [
    "# Define the fixed values of C and H\n",
    "C = 50\n",
    "H = 30\n",
    "\n",
    "# Function to calculate Q based on the given formula\n",
    "def calculate_Q(D):\n",
    "    return round(math.sqrt((2 * C * D) / H))\n",
    "\n",
    "# Input sequence of D values\n",
    "D_values = input(\"Enter the values of D (comma-separated): \").split(',')\n",
    "\n",
    "# calculate & Print the results\n",
    "for D in D_values:\n",
    "    result= calculate_Q(int(D))\n",
    "    print(result, end=', ')\n"
   ]
  }
 ],
 "metadata": {
  "kernelspec": {
   "display_name": "base",
   "language": "python",
   "name": "python3"
  },
  "language_info": {
   "codemirror_mode": {
    "name": "ipython",
    "version": 3
   },
   "file_extension": ".py",
   "mimetype": "text/x-python",
   "name": "python",
   "nbconvert_exporter": "python",
   "pygments_lexer": "ipython3",
   "version": "3.9.13"
  },
  "orig_nbformat": 4
 },
 "nbformat": 4,
 "nbformat_minor": 2
}
